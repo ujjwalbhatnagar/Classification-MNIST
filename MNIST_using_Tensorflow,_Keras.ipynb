{
  "cells": [
    {
      "cell_type": "markdown",
      "metadata": {
        "id": "view-in-github",
        "colab_type": "text"
      },
      "source": [
        "<a href=\"https://colab.research.google.com/github/ujjwalbhatnagar/Classification-MNIST/blob/main/MNIST_using_Tensorflow%2C_Keras.ipynb\" target=\"_parent\"><img src=\"https://colab.research.google.com/assets/colab-badge.svg\" alt=\"Open In Colab\"/></a>"
      ]
    },
    {
      "cell_type": "code",
      "source": [
        "import tensorflow as tf\n",
        "\n",
        "fashion_mnist = tf.keras.datasets.fashion_mnist.load_data()\n",
        "(X_train_full,y_train_full),(X_test,y_test) = fashion_mnist \n",
        "X_train, y_train = X_train_full[:-5000],y_train_full[:-5000]\n",
        "X_valid,y_valid = X_train_full[-5000:],y_train_full[-5000:]"
      ],
      "metadata": {
        "colab": {
          "base_uri": "https://localhost:8080/"
        },
        "id": "JJG4wF3qYGHD",
        "outputId": "7565691d-9915-4c0c-bf83-74afde296e75"
      },
      "execution_count": 1,
      "outputs": [
        {
          "output_type": "stream",
          "name": "stdout",
          "text": [
            "Downloading data from https://storage.googleapis.com/tensorflow/tf-keras-datasets/train-labels-idx1-ubyte.gz\n",
            "29515/29515 [==============================] - 0s 0us/step\n",
            "Downloading data from https://storage.googleapis.com/tensorflow/tf-keras-datasets/train-images-idx3-ubyte.gz\n",
            "26421880/26421880 [==============================] - 2s 0us/step\n",
            "Downloading data from https://storage.googleapis.com/tensorflow/tf-keras-datasets/t10k-labels-idx1-ubyte.gz\n",
            "5148/5148 [==============================] - 0s 0us/step\n",
            "Downloading data from https://storage.googleapis.com/tensorflow/tf-keras-datasets/t10k-images-idx3-ubyte.gz\n",
            "4422102/4422102 [==============================] - 0s 0us/step\n"
          ]
        }
      ]
    },
    {
      "cell_type": "code",
      "source": [
        "X_train.shape"
      ],
      "metadata": {
        "colab": {
          "base_uri": "https://localhost:8080/"
        },
        "id": "BvdMbMy_DBZE",
        "outputId": "5e84f816-39e3-4da0-88b7-cbd798a22e8e"
      },
      "execution_count": 2,
      "outputs": [
        {
          "output_type": "execute_result",
          "data": {
            "text/plain": [
              "(55000, 28, 28)"
            ]
          },
          "metadata": {},
          "execution_count": 2
        }
      ]
    },
    {
      "cell_type": "code",
      "source": [
        "X_train.dtype"
      ],
      "metadata": {
        "colab": {
          "base_uri": "https://localhost:8080/"
        },
        "id": "UCE2Rz5nDOFW",
        "outputId": "808010fe-e808-49b4-ce98-5db41e137e1e"
      },
      "execution_count": 3,
      "outputs": [
        {
          "output_type": "execute_result",
          "data": {
            "text/plain": [
              "dtype('uint8')"
            ]
          },
          "metadata": {},
          "execution_count": 3
        }
      ]
    },
    {
      "cell_type": "code",
      "source": [
        "X_train, X_valid, X_test = X_train / 255., X_valid / 255., X_test / 255"
      ],
      "metadata": {
        "id": "ONAPMRsQDQK8"
      },
      "execution_count": 4,
      "outputs": []
    },
    {
      "cell_type": "code",
      "source": [
        "class_names = [\"T-shirt/top\", \"Trouser\", \"Pullover\", \"Dress\", \"Coat\",\n",
        "\"Sandal\", \"Shirt\", \"Sneaker\", \"Bag\", \"Ankle boot\"]\n"
      ],
      "metadata": {
        "id": "6TEw4A5rDXZC"
      },
      "execution_count": 5,
      "outputs": []
    },
    {
      "cell_type": "code",
      "source": [
        "class_names[y_train[0]]"
      ],
      "metadata": {
        "colab": {
          "base_uri": "https://localhost:8080/",
          "height": 36
        },
        "id": "KnyxzE4JDace",
        "outputId": "4d275358-2c4e-44a7-dfe5-eb95693025df"
      },
      "execution_count": 6,
      "outputs": [
        {
          "output_type": "execute_result",
          "data": {
            "text/plain": [
              "'Ankle boot'"
            ],
            "application/vnd.google.colaboratory.intrinsic+json": {
              "type": "string"
            }
          },
          "metadata": {},
          "execution_count": 6
        }
      ]
    },
    {
      "cell_type": "markdown",
      "source": [
        "**Building Neural Network**\n",
        "\n",
        "Classification MLP with two hidden layers"
      ],
      "metadata": {
        "id": "y20YqJqBDmTY"
      }
    },
    {
      "cell_type": "code",
      "source": [
        "tf.random.set_seed(42)\n",
        "model = tf.keras.Sequential()\n",
        "model.add(tf.keras.layers.Input(shape=[28,28]))\n",
        "model.add(tf.keras.layers.Flatten())\n",
        "model.add(tf.keras.layers.Dense(300,activation=\"relu\"))\n",
        "model.add(tf.keras.layers.Dense(100,activation=\"relu\"))\n",
        "model.add(tf.keras.layers.Dense(10,activation=\"softmax\"))"
      ],
      "metadata": {
        "id": "vKVy8KDSDgWD"
      },
      "execution_count": 7,
      "outputs": []
    },
    {
      "cell_type": "code",
      "source": [
        "model = tf.keras.Sequential([\n",
        "tf.keras.layers.Flatten(input_shape=[28, 28]),\n",
        "tf.keras.layers.Dense(300, activation=\"relu\"),\n",
        "tf.keras.layers.Dense(100, activation=\"relu\"),\n",
        "tf.keras.layers.Dense(10, activation=\"softmax\")\n",
        "])\n"
      ],
      "metadata": {
        "id": "OmW5E8elDmD_"
      },
      "execution_count": 9,
      "outputs": []
    },
    {
      "cell_type": "code",
      "source": [
        "model.summary()"
      ],
      "metadata": {
        "colab": {
          "base_uri": "https://localhost:8080/"
        },
        "id": "iuKKmXMHvGeK",
        "outputId": "cd69d46b-42d1-4bd1-9993-358f8083d58b"
      },
      "execution_count": 10,
      "outputs": [
        {
          "output_type": "stream",
          "name": "stdout",
          "text": [
            "Model: \"sequential_2\"\n",
            "_________________________________________________________________\n",
            " Layer (type)                Output Shape              Param #   \n",
            "=================================================================\n",
            " flatten_2 (Flatten)         (None, 784)               0         \n",
            "                                                                 \n",
            " dense_6 (Dense)             (None, 300)               235500    \n",
            "                                                                 \n",
            " dense_7 (Dense)             (None, 100)               30100     \n",
            "                                                                 \n",
            " dense_8 (Dense)             (None, 10)                1010      \n",
            "                                                                 \n",
            "=================================================================\n",
            "Total params: 266,610\n",
            "Trainable params: 266,610\n",
            "Non-trainable params: 0\n",
            "_________________________________________________________________\n"
          ]
        }
      ]
    },
    {
      "cell_type": "code",
      "source": [
        "model.layers"
      ],
      "metadata": {
        "colab": {
          "base_uri": "https://localhost:8080/"
        },
        "id": "5h3Zw71CvJoM",
        "outputId": "9c2fd6d2-ca9c-4a07-a715-c0e40bd37399"
      },
      "execution_count": 11,
      "outputs": [
        {
          "output_type": "execute_result",
          "data": {
            "text/plain": [
              "[<keras.layers.reshaping.flatten.Flatten at 0x7fb8a4bfffa0>,\n",
              " <keras.layers.core.dense.Dense at 0x7fb8a4bff3d0>,\n",
              " <keras.layers.core.dense.Dense at 0x7fb8a4bff460>,\n",
              " <keras.layers.core.dense.Dense at 0x7fb8c716de20>]"
            ]
          },
          "metadata": {},
          "execution_count": 11
        }
      ]
    },
    {
      "cell_type": "code",
      "source": [
        "hidden1 = model.layers[1]\n",
        "hidden1.name"
      ],
      "metadata": {
        "colab": {
          "base_uri": "https://localhost:8080/",
          "height": 36
        },
        "id": "v2z68PH6v6Hk",
        "outputId": "5ee4c86a-b21e-4e3e-cf97-a76458f67914"
      },
      "execution_count": 13,
      "outputs": [
        {
          "output_type": "execute_result",
          "data": {
            "text/plain": [
              "'dense_6'"
            ],
            "application/vnd.google.colaboratory.intrinsic+json": {
              "type": "string"
            }
          },
          "metadata": {},
          "execution_count": 13
        }
      ]
    },
    {
      "cell_type": "code",
      "source": [
        "weights, biases = hidden1.get_weights()\n",
        "weights"
      ],
      "metadata": {
        "colab": {
          "base_uri": "https://localhost:8080/"
        },
        "id": "livpD2gqvq50",
        "outputId": "d1aca1d3-1e22-477b-d3f6-3c5525cd49f3"
      },
      "execution_count": 14,
      "outputs": [
        {
          "output_type": "execute_result",
          "data": {
            "text/plain": [
              "array([[ 0.02152792,  0.01490968,  0.01449426, ...,  0.06675538,\n",
              "        -0.01629252, -0.01773523],\n",
              "       [-0.04134908,  0.05162604,  0.00610404, ..., -0.01031101,\n",
              "        -0.05251803, -0.07243444],\n",
              "       [-0.01316486,  0.01325239, -0.05512611, ...,  0.01978292,\n",
              "        -0.00018724,  0.05450717],\n",
              "       ...,\n",
              "       [-0.04610801,  0.06705371,  0.01867938, ...,  0.03467844,\n",
              "        -0.01207077, -0.0166595 ],\n",
              "       [-0.0343236 , -0.04654349,  0.05995876, ..., -0.02031052,\n",
              "         0.04026503, -0.07005446],\n",
              "       [-0.06722962,  0.03717246, -0.02887077, ...,  0.01249924,\n",
              "         0.01518896,  0.07228149]], dtype=float32)"
            ]
          },
          "metadata": {},
          "execution_count": 14
        }
      ]
    },
    {
      "cell_type": "code",
      "source": [
        "biases"
      ],
      "metadata": {
        "colab": {
          "base_uri": "https://localhost:8080/"
        },
        "id": "rCbpEQsqv3E3",
        "outputId": "10bbfad0-426b-4f4e-c288-f27b1a752bfb"
      },
      "execution_count": 15,
      "outputs": [
        {
          "output_type": "execute_result",
          "data": {
            "text/plain": [
              "array([0., 0., 0., 0., 0., 0., 0., 0., 0., 0., 0., 0., 0., 0., 0., 0., 0.,\n",
              "       0., 0., 0., 0., 0., 0., 0., 0., 0., 0., 0., 0., 0., 0., 0., 0., 0.,\n",
              "       0., 0., 0., 0., 0., 0., 0., 0., 0., 0., 0., 0., 0., 0., 0., 0., 0.,\n",
              "       0., 0., 0., 0., 0., 0., 0., 0., 0., 0., 0., 0., 0., 0., 0., 0., 0.,\n",
              "       0., 0., 0., 0., 0., 0., 0., 0., 0., 0., 0., 0., 0., 0., 0., 0., 0.,\n",
              "       0., 0., 0., 0., 0., 0., 0., 0., 0., 0., 0., 0., 0., 0., 0., 0., 0.,\n",
              "       0., 0., 0., 0., 0., 0., 0., 0., 0., 0., 0., 0., 0., 0., 0., 0., 0.,\n",
              "       0., 0., 0., 0., 0., 0., 0., 0., 0., 0., 0., 0., 0., 0., 0., 0., 0.,\n",
              "       0., 0., 0., 0., 0., 0., 0., 0., 0., 0., 0., 0., 0., 0., 0., 0., 0.,\n",
              "       0., 0., 0., 0., 0., 0., 0., 0., 0., 0., 0., 0., 0., 0., 0., 0., 0.,\n",
              "       0., 0., 0., 0., 0., 0., 0., 0., 0., 0., 0., 0., 0., 0., 0., 0., 0.,\n",
              "       0., 0., 0., 0., 0., 0., 0., 0., 0., 0., 0., 0., 0., 0., 0., 0., 0.,\n",
              "       0., 0., 0., 0., 0., 0., 0., 0., 0., 0., 0., 0., 0., 0., 0., 0., 0.,\n",
              "       0., 0., 0., 0., 0., 0., 0., 0., 0., 0., 0., 0., 0., 0., 0., 0., 0.,\n",
              "       0., 0., 0., 0., 0., 0., 0., 0., 0., 0., 0., 0., 0., 0., 0., 0., 0.,\n",
              "       0., 0., 0., 0., 0., 0., 0., 0., 0., 0., 0., 0., 0., 0., 0., 0., 0.,\n",
              "       0., 0., 0., 0., 0., 0., 0., 0., 0., 0., 0., 0., 0., 0., 0., 0., 0.,\n",
              "       0., 0., 0., 0., 0., 0., 0., 0., 0., 0., 0.], dtype=float32)"
            ]
          },
          "metadata": {},
          "execution_count": 15
        }
      ]
    },
    {
      "cell_type": "code",
      "source": [
        "model.compile(loss=\"sparse_categorical_crossentropy\",\n",
        "              optimizer=\"sgd\",\n",
        "              metrics=[\"accuracy\"])"
      ],
      "metadata": {
        "id": "IuY5WvtvwEkh"
      },
      "execution_count": 16,
      "outputs": []
    },
    {
      "cell_type": "markdown",
      "source": [
        "**Training and evaluating the model**"
      ],
      "metadata": {
        "id": "Bt3lW9dQxoSw"
      }
    },
    {
      "cell_type": "code",
      "source": [
        "history = model.fit(X_train,y_train,epochs=30,\n",
        "                    validation_data=(X_valid,y_valid))"
      ],
      "metadata": {
        "colab": {
          "base_uri": "https://localhost:8080/"
        },
        "id": "Yo_J3-53wq65",
        "outputId": "1ef2f3d5-2e7a-48a5-fab4-ba9e8c4564f9"
      },
      "execution_count": 17,
      "outputs": [
        {
          "output_type": "stream",
          "name": "stdout",
          "text": [
            "Epoch 1/30\n",
            "1719/1719 [==============================] - 10s 5ms/step - loss: 0.7178 - accuracy: 0.7623 - val_loss: 0.5040 - val_accuracy: 0.8242\n",
            "Epoch 2/30\n",
            "1719/1719 [==============================] - 7s 4ms/step - loss: 0.4845 - accuracy: 0.8305 - val_loss: 0.4595 - val_accuracy: 0.8346\n",
            "Epoch 3/30\n",
            "1719/1719 [==============================] - 8s 5ms/step - loss: 0.4389 - accuracy: 0.8459 - val_loss: 0.4226 - val_accuracy: 0.8534\n",
            "Epoch 4/30\n",
            "1719/1719 [==============================] - 9s 5ms/step - loss: 0.4144 - accuracy: 0.8548 - val_loss: 0.3946 - val_accuracy: 0.8610\n",
            "Epoch 5/30\n",
            "1719/1719 [==============================] - 8s 4ms/step - loss: 0.3942 - accuracy: 0.8618 - val_loss: 0.3928 - val_accuracy: 0.8602\n",
            "Epoch 6/30\n",
            "1719/1719 [==============================] - 8s 5ms/step - loss: 0.3779 - accuracy: 0.8668 - val_loss: 0.3940 - val_accuracy: 0.8626\n",
            "Epoch 7/30\n",
            "1719/1719 [==============================] - 9s 5ms/step - loss: 0.3657 - accuracy: 0.8703 - val_loss: 0.3734 - val_accuracy: 0.8694\n",
            "Epoch 8/30\n",
            "1719/1719 [==============================] - 7s 4ms/step - loss: 0.3541 - accuracy: 0.8747 - val_loss: 0.3748 - val_accuracy: 0.8632\n",
            "Epoch 9/30\n",
            "1719/1719 [==============================] - 9s 6ms/step - loss: 0.3438 - accuracy: 0.8783 - val_loss: 0.3530 - val_accuracy: 0.8726\n",
            "Epoch 10/30\n",
            "1719/1719 [==============================] - 8s 5ms/step - loss: 0.3337 - accuracy: 0.8817 - val_loss: 0.3552 - val_accuracy: 0.8714\n",
            "Epoch 11/30\n",
            "1719/1719 [==============================] - 8s 4ms/step - loss: 0.3253 - accuracy: 0.8843 - val_loss: 0.3680 - val_accuracy: 0.8680\n",
            "Epoch 12/30\n",
            "1719/1719 [==============================] - 8s 5ms/step - loss: 0.3177 - accuracy: 0.8866 - val_loss: 0.3526 - val_accuracy: 0.8728\n",
            "Epoch 13/30\n",
            "1719/1719 [==============================] - 9s 5ms/step - loss: 0.3104 - accuracy: 0.8896 - val_loss: 0.3331 - val_accuracy: 0.8810\n",
            "Epoch 14/30\n",
            "1719/1719 [==============================] - 8s 5ms/step - loss: 0.3034 - accuracy: 0.8911 - val_loss: 0.3437 - val_accuracy: 0.8782\n",
            "Epoch 15/30\n",
            "1719/1719 [==============================] - 9s 5ms/step - loss: 0.2970 - accuracy: 0.8940 - val_loss: 0.3400 - val_accuracy: 0.8768\n",
            "Epoch 16/30\n",
            "1719/1719 [==============================] - 8s 5ms/step - loss: 0.2900 - accuracy: 0.8954 - val_loss: 0.3312 - val_accuracy: 0.8790\n",
            "Epoch 17/30\n",
            "1719/1719 [==============================] - 8s 5ms/step - loss: 0.2851 - accuracy: 0.8966 - val_loss: 0.3352 - val_accuracy: 0.8764\n",
            "Epoch 18/30\n",
            "1719/1719 [==============================] - 9s 5ms/step - loss: 0.2794 - accuracy: 0.8993 - val_loss: 0.3292 - val_accuracy: 0.8826\n",
            "Epoch 19/30\n",
            "1719/1719 [==============================] - 8s 5ms/step - loss: 0.2741 - accuracy: 0.9005 - val_loss: 0.3546 - val_accuracy: 0.8672\n",
            "Epoch 20/30\n",
            "1719/1719 [==============================] - 8s 5ms/step - loss: 0.2693 - accuracy: 0.9034 - val_loss: 0.3249 - val_accuracy: 0.8800\n",
            "Epoch 21/30\n",
            "1719/1719 [==============================] - 9s 5ms/step - loss: 0.2644 - accuracy: 0.9040 - val_loss: 0.3171 - val_accuracy: 0.8820\n",
            "Epoch 22/30\n",
            "1719/1719 [==============================] - 8s 5ms/step - loss: 0.2593 - accuracy: 0.9062 - val_loss: 0.3204 - val_accuracy: 0.8826\n",
            "Epoch 23/30\n",
            "1719/1719 [==============================] - 8s 5ms/step - loss: 0.2549 - accuracy: 0.9085 - val_loss: 0.3410 - val_accuracy: 0.8744\n",
            "Epoch 24/30\n",
            "1719/1719 [==============================] - 9s 5ms/step - loss: 0.2497 - accuracy: 0.9105 - val_loss: 0.3195 - val_accuracy: 0.8818\n",
            "Epoch 25/30\n",
            "1719/1719 [==============================] - 7s 4ms/step - loss: 0.2458 - accuracy: 0.9109 - val_loss: 0.3226 - val_accuracy: 0.8798\n",
            "Epoch 26/30\n",
            "1719/1719 [==============================] - 9s 5ms/step - loss: 0.2421 - accuracy: 0.9130 - val_loss: 0.3152 - val_accuracy: 0.8828\n",
            "Epoch 27/30\n",
            "1719/1719 [==============================] - 9s 5ms/step - loss: 0.2371 - accuracy: 0.9145 - val_loss: 0.3241 - val_accuracy: 0.8812\n",
            "Epoch 28/30\n",
            "1719/1719 [==============================] - 7s 4ms/step - loss: 0.2345 - accuracy: 0.9152 - val_loss: 0.3195 - val_accuracy: 0.8854\n",
            "Epoch 29/30\n",
            "1719/1719 [==============================] - 9s 5ms/step - loss: 0.2303 - accuracy: 0.9169 - val_loss: 0.3218 - val_accuracy: 0.8832\n",
            "Epoch 30/30\n",
            "1719/1719 [==============================] - 8s 5ms/step - loss: 0.2260 - accuracy: 0.9190 - val_loss: 0.3112 - val_accuracy: 0.8878\n"
          ]
        }
      ]
    },
    {
      "cell_type": "code",
      "source": [
        "history.params"
      ],
      "metadata": {
        "colab": {
          "base_uri": "https://localhost:8080/"
        },
        "id": "tnADxlv1x9V7",
        "outputId": "b11df2af-77da-4a9d-bb7a-6c0793757631"
      },
      "execution_count": 18,
      "outputs": [
        {
          "output_type": "execute_result",
          "data": {
            "text/plain": [
              "{'verbose': 1, 'epochs': 30, 'steps': 1719}"
            ]
          },
          "metadata": {},
          "execution_count": 18
        }
      ]
    },
    {
      "cell_type": "code",
      "source": [
        "history.history"
      ],
      "metadata": {
        "colab": {
          "base_uri": "https://localhost:8080/"
        },
        "id": "SQyDR4VtzjBW",
        "outputId": "463fdbe7-3cb5-4723-fc40-7d810d581d6b"
      },
      "execution_count": 21,
      "outputs": [
        {
          "output_type": "execute_result",
          "data": {
            "text/plain": [
              "{'loss': [0.7177865505218506,\n",
              "  0.4845034182071686,\n",
              "  0.4389118552207947,\n",
              "  0.41441744565963745,\n",
              "  0.3941521942615509,\n",
              "  0.37794938683509827,\n",
              "  0.36565443873405457,\n",
              "  0.35412418842315674,\n",
              "  0.34375858306884766,\n",
              "  0.3336910605430603,\n",
              "  0.3252516984939575,\n",
              "  0.3176540434360504,\n",
              "  0.3103848695755005,\n",
              "  0.30335062742233276,\n",
              "  0.29695725440979004,\n",
              "  0.29003024101257324,\n",
              "  0.28509968519210815,\n",
              "  0.27935680747032166,\n",
              "  0.2740635573863983,\n",
              "  0.26926398277282715,\n",
              "  0.2643711566925049,\n",
              "  0.25926971435546875,\n",
              "  0.2549354135990143,\n",
              "  0.24974605441093445,\n",
              "  0.24578186869621277,\n",
              "  0.24206401407718658,\n",
              "  0.23708464205265045,\n",
              "  0.23454472422599792,\n",
              "  0.23033030331134796,\n",
              "  0.22604435682296753],\n",
              " 'accuracy': [0.7623454332351685,\n",
              "  0.8304545283317566,\n",
              "  0.8459272980690002,\n",
              "  0.8548363447189331,\n",
              "  0.8617636561393738,\n",
              "  0.8668181896209717,\n",
              "  0.8702545166015625,\n",
              "  0.8747090697288513,\n",
              "  0.8783090710639954,\n",
              "  0.8816545605659485,\n",
              "  0.8843272924423218,\n",
              "  0.8866363763809204,\n",
              "  0.8895636200904846,\n",
              "  0.8911272883415222,\n",
              "  0.8939999938011169,\n",
              "  0.8953636288642883,\n",
              "  0.8965818285942078,\n",
              "  0.899327278137207,\n",
              "  0.9005454778671265,\n",
              "  0.9033636450767517,\n",
              "  0.9039999842643738,\n",
              "  0.9061999917030334,\n",
              "  0.9085454344749451,\n",
              "  0.9104909300804138,\n",
              "  0.9108726978302002,\n",
              "  0.9130363464355469,\n",
              "  0.9144909381866455,\n",
              "  0.9151999950408936,\n",
              "  0.9168909192085266,\n",
              "  0.9190182089805603],\n",
              " 'val_loss': [0.5040180683135986,\n",
              "  0.45950838923454285,\n",
              "  0.4225754737854004,\n",
              "  0.3945903182029724,\n",
              "  0.3928041160106659,\n",
              "  0.39402928948402405,\n",
              "  0.3733515739440918,\n",
              "  0.37482813000679016,\n",
              "  0.3529604375362396,\n",
              "  0.35519951581954956,\n",
              "  0.36795946955680847,\n",
              "  0.3525715470314026,\n",
              "  0.33305320143699646,\n",
              "  0.3436868190765381,\n",
              "  0.34004610776901245,\n",
              "  0.3311868906021118,\n",
              "  0.33522284030914307,\n",
              "  0.3292436897754669,\n",
              "  0.35455527901649475,\n",
              "  0.32485172152519226,\n",
              "  0.3171190321445465,\n",
              "  0.3203792870044708,\n",
              "  0.3409987688064575,\n",
              "  0.31945741176605225,\n",
              "  0.32259976863861084,\n",
              "  0.31524205207824707,\n",
              "  0.32410839200019836,\n",
              "  0.31948575377464294,\n",
              "  0.32178565859794617,\n",
              "  0.31122249364852905],\n",
              " 'val_accuracy': [0.8241999745368958,\n",
              "  0.8345999717712402,\n",
              "  0.8533999919891357,\n",
              "  0.8610000014305115,\n",
              "  0.8601999878883362,\n",
              "  0.8626000285148621,\n",
              "  0.8694000244140625,\n",
              "  0.8632000088691711,\n",
              "  0.8726000189781189,\n",
              "  0.871399998664856,\n",
              "  0.8679999709129333,\n",
              "  0.8727999925613403,\n",
              "  0.8809999823570251,\n",
              "  0.8781999945640564,\n",
              "  0.876800000667572,\n",
              "  0.8790000081062317,\n",
              "  0.8763999938964844,\n",
              "  0.8826000094413757,\n",
              "  0.8672000169754028,\n",
              "  0.8799999952316284,\n",
              "  0.8820000290870667,\n",
              "  0.8826000094413757,\n",
              "  0.8744000196456909,\n",
              "  0.8817999958992004,\n",
              "  0.879800021648407,\n",
              "  0.8827999830245972,\n",
              "  0.8812000155448914,\n",
              "  0.8853999972343445,\n",
              "  0.8831999897956848,\n",
              "  0.8877999782562256]}"
            ]
          },
          "metadata": {},
          "execution_count": 21
        }
      ]
    },
    {
      "cell_type": "code",
      "source": [
        "import matplotlib.pyplot as plt \n",
        "import pandas as pd \n",
        "pd.DataFrame(history.history).plot(\n",
        "    figsize=(8,5),xlim=[0,29],ylim=[0,1],grid=True,xlabel=\"Epoch\",\n",
        "    style=[\"r--\",\"r--\",\"b-\",\"b-*\"])\n",
        "plt.show()"
      ],
      "metadata": {
        "colab": {
          "base_uri": "https://localhost:8080/",
          "height": 338
        },
        "id": "9b54Z_k-zmXy",
        "outputId": "a2b2d63e-ddcc-4d74-8bd1-4a4377279f68"
      },
      "execution_count": 22,
      "outputs": [
        {
          "output_type": "display_data",
          "data": {
            "text/plain": [
              "<Figure size 576x360 with 1 Axes>"
            ],
            "image/png": "[encoded data removed]"
          },
          "metadata": {
            "needs_background": "light"
          }
        }
      ]
    },
    {
      "cell_type": "code",
      "source": [
        "model.evaluate(X_test, y_test)"
      ],
      "metadata": {
        "colab": {
          "base_uri": "https://localhost:8080/"
        },
        "id": "EAqlOvt00RJN",
        "outputId": "68075dd2-fa54-43e5-87d6-07ee2b4ec591"
      },
      "execution_count": 23,
      "outputs": [
        {
          "output_type": "stream",
          "name": "stdout",
          "text": [
            "313/313 [==============================] - 2s 6ms/step - loss: 0.3217 - accuracy: 0.8837\n"
          ]
        },
        {
          "output_type": "execute_result",
          "data": {
            "text/plain": [
              "[0.32167911529541016, 0.8837000131607056]"
            ]
          },
          "metadata": {},
          "execution_count": 23
        }
      ]
    },
    {
      "cell_type": "markdown",
      "source": [
        "**Using the model to make predictions**"
      ],
      "metadata": {
        "id": "pnkgVvhJ12a7"
      }
    },
    {
      "cell_type": "code",
      "source": [
        "X_new = X_test[:3]\n",
        "y_proba = model.predict(X_new)\n",
        "y_proba.round(2)"
      ],
      "metadata": {
        "colab": {
          "base_uri": "https://localhost:8080/"
        },
        "id": "XFWjrtuD1aGT",
        "outputId": "e42de058-452b-45ab-ba49-c8a3ed33d982"
      },
      "execution_count": 24,
      "outputs": [
        {
          "output_type": "stream",
          "name": "stdout",
          "text": [
            "1/1 [==============================] - 0s 110ms/step\n"
          ]
        },
        {
          "output_type": "execute_result",
          "data": {
            "text/plain": [
              "array([[0.  , 0.  , 0.  , 0.  , 0.  , 0.01, 0.  , 0.02, 0.  , 0.97],\n",
              "       [0.  , 0.  , 1.  , 0.  , 0.  , 0.  , 0.  , 0.  , 0.  , 0.  ],\n",
              "       [0.  , 1.  , 0.  , 0.  , 0.  , 0.  , 0.  , 0.  , 0.  , 0.  ]],\n",
              "      dtype=float32)"
            ]
          },
          "metadata": {},
          "execution_count": 24
        }
      ]
    },
    {
      "cell_type": "code",
      "source": [
        "import numpy as np\n",
        "y_pred = y_proba.argmax(axis=-1)\n",
        "y_pred"
      ],
      "metadata": {
        "colab": {
          "base_uri": "https://localhost:8080/"
        },
        "id": "HHv8p_a416HN",
        "outputId": "86a7fb8e-199b-4b34-cb41-e50707d8b874"
      },
      "execution_count": 25,
      "outputs": [
        {
          "output_type": "execute_result",
          "data": {
            "text/plain": [
              "array([9, 2, 1])"
            ]
          },
          "metadata": {},
          "execution_count": 25
        }
      ]
    },
    {
      "cell_type": "code",
      "source": [
        "np.array(class_names)[y_pred]"
      ],
      "metadata": {
        "colab": {
          "base_uri": "https://localhost:8080/"
        },
        "id": "Zy5JuYbc28PK",
        "outputId": "df1f609c-edf5-40fe-9646-e1252a05b695"
      },
      "execution_count": 26,
      "outputs": [
        {
          "output_type": "execute_result",
          "data": {
            "text/plain": [
              "array(['Ankle boot', 'Pullover', 'Trouser'], dtype='<U11')"
            ]
          },
          "metadata": {},
          "execution_count": 26
        }
      ]
    },
    {
      "cell_type": "code",
      "source": [
        "y_new = y_test[:3] \n",
        "y_new"
      ],
      "metadata": {
        "colab": {
          "base_uri": "https://localhost:8080/"
        },
        "id": "a4gZ4cnW3BDr",
        "outputId": "3cffe267-37e1-4365-cfa4-d5ccec112803"
      },
      "execution_count": 27,
      "outputs": [
        {
          "output_type": "execute_result",
          "data": {
            "text/plain": [
              "array([9, 2, 1], dtype=uint8)"
            ]
          },
          "metadata": {},
          "execution_count": 27
        }
      ]
    },
    {
      "cell_type": "code",
      "source": [],
      "metadata": {
        "id": "UW1FEG7M3HG6"
      },
      "execution_count": null,
      "outputs": []
    }
  ],
  "metadata": {
    "colab": {
      "provenance": [],
      "authorship_tag": "ABX9TyMx0l46uhayt7qjIHnsOHBE",
      "include_colab_link": true
    },
    "kernelspec": {
      "display_name": "Python 3",
      "name": "python3"
    },
    "language_info": {
      "name": "python"
    }
  },
  "nbformat": 4,
  "nbformat_minor": 0
}